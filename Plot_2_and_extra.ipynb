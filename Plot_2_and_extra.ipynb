{
 "cells": [
  {
   "cell_type": "code",
   "execution_count": 1,
   "metadata": {},
   "outputs": [
    {
     "name": "stdout",
     "output_type": "stream",
     "text": [
      "C:\\Users\\James\\Dropbox\\DS\\TDI_Challenge\n"
     ]
    }
   ],
   "source": [
    "### Module and data imports\n",
    "\n",
    "import plotly\n",
    "import plotly.plotly as py\n",
    "import plotly.figure_factory as ff\n",
    "\n",
    "from mpl_toolkits.mplot3d import Axes3D\n",
    "from mpl_toolkits.basemap import Basemap\n",
    "import matplotlib.pyplot as plt\n",
    "\n",
    "import numpy as np\n",
    "import pandas as pd\n",
    "import os\n",
    "\n",
    "plotly.tools.set_credentials_file(username='jdanski', api_key='5Qa76vbljfI27xB5UwxW')\n",
    "\n",
    "cwd = os.getcwd()\n",
    "print(cwd)\n",
    "\n",
    "used_cars = pd.read_csv(\"tc20171021.csv\")\n",
    "us_cities_counties = pd.read_csv(\"uscitiesv1.4.csv\")\n",
    "\n",
    "### cleaning data (drop exotic vehicles)\n",
    "max_car_price = 50000.0\n",
    "used_cars.drop(used_cars[used_cars.Price >= max_car_price].index, inplace=True)"
   ]
  },
  {
   "cell_type": "code",
   "execution_count": 2,
   "metadata": {},
   "outputs": [
    {
     "name": "stdout",
     "output_type": "stream",
     "text": [
      "Index(['Id', 'Price', 'Year', 'Mileage', 'City', 'State', 'Vin', 'Make',\n",
      "       'Model', 'Fips', 'Code'],\n",
      "      dtype='object')\n"
     ]
    }
   ],
   "source": [
    "city_to_fips = {}\n",
    "for i, row in us_cities_counties.iterrows():\n",
    "    city_to_fips[row['city']] = str(row['county_fips']).zfill(5)\n",
    "    \n",
    "used_cars['Fips'] = used_cars.apply(lambda row: city_to_fips[row['City']] if city_to_fips.get(row['City']) else float('nan'), axis=1)\n",
    "used_cars['Code'] = used_cars.apply(lambda row: row['State'].strip().upper(), axis=1)\n",
    "print (used_cars.keys())"
   ]
  },
  {
   "cell_type": "code",
   "execution_count": 3,
   "metadata": {},
   "outputs": [],
   "source": [
    "#### filter all NaN values\n",
    "used_cars.dropna()\n",
    "\n",
    "#### Calculating the average age of a car per county (Fips)\n",
    "ave_car_year_by_county = used_cars.groupby(['Fips'])['Year'].mean()\n",
    "\n",
    "fips = ave_car_year_by_county.index.values\n",
    "ave_car_age = float(2019) - ave_car_year_by_county.values\n",
    "\n",
    "#### Calculating the average age of a car per state\n",
    "ave_car_year_by_state = used_cars.groupby(['Code'])['Year'].mean()\n",
    "ave_car_age_st = float(2019) - ave_car_year_by_state.values\n",
    "\n",
    "#### Calculating other averages\n",
    "ave_car_price_by_state = used_cars.groupby(['Code'])['Price'].mean()\n",
    "norm_car_price_by_state = ave_car_price_by_state/np.mean(ave_car_price_by_state)\n",
    "ave_car_mil_by_state = used_cars.groupby(['Code'])['Mileage'].mean()\n",
    "norm_car_mil_by_state = ave_car_mil_by_state/np.mean(ave_car_mil_by_state)\n",
    "\n",
    "ave_car_mil_by_make = used_cars.groupby(['Make'])['Mileage'].mean()\n",
    "ave_car_price_by_make = used_cars.groupby(['Make'])['Price'].mean()\n",
    "ave_car_age_by_make = used_cars.groupby(['Make'])['Year'].mean()\n",
    "ave_car_age_make = float(2019) - ave_car_age_by_make.values"
   ]
  },
  {
   "cell_type": "code",
   "execution_count": 4,
   "metadata": {},
   "outputs": [
    {
     "data": {
      "text/html": [
       "<iframe id=\"igraph\" scrolling=\"no\" style=\"border:none;\" seamless=\"seamless\" src=\"https://plot.ly/~jdanski/2.embed\" height=\"525px\" width=\"100%\"></iframe>"
      ],
      "text/plain": [
       "<plotly.tools.PlotlyDisplay object>"
      ]
     },
     "execution_count": 4,
     "metadata": {},
     "output_type": "execute_result"
    }
   ],
   "source": [
    "scl = [[0.0, 'rgb(242,240,247)'],[0.2, 'rgb(218,218,235)'],[0.4, 'rgb(188,189,220)'],\\\n",
    "            [0.6, 'rgb(158,154,200)'],[0.8, 'rgb(117,107,177)'],[1.0, 'rgb(84,39,143)']]\n",
    "\n",
    "dataset = pd.DataFrame({'States':used_cars.Code.unique(),'Ave Age': [str(round(x,2)) for x in ave_car_age_st.tolist()], 'Norm Price': [str(round(x,2)) for x in norm_car_price_by_state.tolist()], 'Norm Mileage': [str(round(x,2)) for x in norm_car_mil_by_state.tolist()]})\n",
    "\n",
    "dataset['text'] = dataset['States'] + '<br>' +\\\n",
    "     'Normalized Price '+ dataset['Norm Price'] + '<br>' + 'Normalized Mileage '+ dataset['Norm Mileage']\n",
    "\n",
    "data = [ dict(\n",
    "        type='choropleth',\n",
    "        colorscale = 'Jet',\n",
    "        autocolorscale = False,\n",
    "        locations = dataset['States'],\n",
    "        z = dataset['Ave Age'],\n",
    "        locationmode = 'USA-states',\n",
    "        text = dataset['text'],\n",
    "        marker = dict(\n",
    "            line = dict (\n",
    "                color = 'rgb(255,255,255)',\n",
    "                width = 2\n",
    "            ) ),\n",
    "        colorbar = dict(\n",
    "            title = \"Average Car Age\")\n",
    "        ) ]\n",
    "\n",
    "layout = dict(\n",
    "        title = 'Average Used Car Age by State<br>(Hover for breakdown)',\n",
    "        geo = dict(\n",
    "            scope='usa',\n",
    "            projection=dict( type='albers usa' ),\n",
    "            showlakes = True,\n",
    "            lakecolor = 'rgb(255, 255, 255)'),\n",
    "             )\n",
    "    \n",
    "fig = dict( data=data, layout=layout )\n",
    "py.iplot( fig, filename='d3-cloropleth-map')"
   ]
  },
  {
   "cell_type": "code",
   "execution_count": 5,
   "metadata": {},
   "outputs": [
    {
     "name": "stderr",
     "output_type": "stream",
     "text": [
      "C:\\Users\\James\\Anaconda3\\lib\\site-packages\\pandas\\core\\frame.py:6201: FutureWarning:\n",
      "\n",
      "Sorting because non-concatenation axis is not aligned. A future version\n",
      "of pandas will change to not sort by default.\n",
      "\n",
      "To accept the future behavior, pass 'sort=True'.\n",
      "\n",
      "To retain the current behavior and silence the warning, pass sort=False\n",
      "\n",
      "\n"
     ]
    },
    {
     "name": "stdout",
     "output_type": "stream",
     "text": [
      "High five! You successfully sent some data to your account on plotly. View your plot in your browser at https://plot.ly/~jdanski/0 or inside your plot.ly account where it is named 'choropleth_full_usa'\n"
     ]
    },
    {
     "data": {
      "text/html": [
       "<iframe id=\"igraph\" scrolling=\"no\" style=\"border:none;\" seamless=\"seamless\" src=\"https://plot.ly/~jdanski/0.embed\" height=\"450px\" width=\"900px\"></iframe>"
      ],
      "text/plain": [
       "<plotly.tools.PlotlyDisplay object>"
      ]
     },
     "execution_count": 5,
     "metadata": {},
     "output_type": "execute_result"
    }
   ],
   "source": [
    "#### Plotting counties across the US\n",
    "\n",
    "# colorscale = [\"#d2e3f3\",\"#c6dbef\",\"#b3d2e9\",\"#9ecae1\",\n",
    "#               \"#85bcdb\",\"#6baed6\",\"#57a0ce\",\"#4292c6\",\"#3082be\",\"#2171b5\",\"#1361a9\",\n",
    "#               \"#08519c\",\"#0b4083\",\"#08306b\"]\n",
    "# endpts = list(np.linspace(1, 12, len(colorscale) - 1))\n",
    "# #fips = df_sample['FIPS'].tolist()\n",
    "# #values = df_sample['Unemployment Rate (%)'].tolist()\n",
    "\n",
    "# fig = ff.create_choropleth(\n",
    "#     fips=fips, values=ave_car_age, scope=['usa'],\n",
    "#     binning_endpoints=endpts, colorscale=colorscale,\n",
    "#     show_state_data=True,\n",
    "#     show_hover=True, centroid_marker={'opacity': 0},\n",
    "#     county_outline={'color': 'rgb(255,255,255)', 'width': 0.5},\n",
    "#     state_outline={'color': 'rgb(0,0,0)', 'width': 0.5},\n",
    "#     asp=2.9, title='Average Used Car Age in US Counties',\n",
    "#     legend_title='Average Used Car Age (years)'\n",
    "# )\n",
    "# py.iplot(fig, filename='choropleth_full_usa')"
   ]
  },
  {
   "cell_type": "code",
   "execution_count": 6,
   "metadata": {},
   "outputs": [
    {
     "data": {
      "text/html": [
       "<iframe id=\"igraph\" scrolling=\"no\" style=\"border:none;\" seamless=\"seamless\" src=\"https://plot.ly/~jdanski/2.embed\" height=\"525px\" width=\"100%\"></iframe>"
      ],
      "text/plain": [
       "<plotly.tools.PlotlyDisplay object>"
      ]
     },
     "execution_count": 6,
     "metadata": {},
     "output_type": "execute_result"
    }
   ],
   "source": [
    "# scl = [[0.0, 'rgb(242,240,247)'],[0.2, 'rgb(218,218,235)'],[0.4, 'rgb(188,189,220)'],\\\n",
    "#             [0.6, 'rgb(158,154,200)'],[0.8, 'rgb(117,107,177)'],[1.0, 'rgb(84,39,143)']]\n",
    "\n",
    "# # df['text'] = df['state'] + '<br>' +\\\n",
    "# #     'Beef '+df['beef']+' Dairy '+df['dairy']+'<br>'+\\\n",
    "# #     'Fruits '+df['total fruits']+' Veggies ' + df['total veggies']+'<br>'+\\\n",
    "# #     'Wheat '+df['wheat']+' Corn '+df['corn']\n",
    "\n",
    "# dataset = pd.DataFrame({'States':used_cars.Code.unique(),'Price':ave_car_price_by_state})\n",
    "\n",
    "# data = [ dict(\n",
    "#         type='choropleth',\n",
    "#         colorscale = scl,\n",
    "#         autocolorscale = False,\n",
    "#         locations = dataset['States'],\n",
    "#         z = dataset['Price'],\n",
    "#         locationmode = 'USA-states',\n",
    "# #         text = df['text'],\n",
    "#         marker = dict(\n",
    "#             line = dict (\n",
    "#                 color = 'rgb(255,255,255)',\n",
    "#                 width = 2\n",
    "#             ) ),\n",
    "#         colorbar = dict(\n",
    "#             title = \"Average Car Price\")\n",
    "#         ) ]\n",
    "\n",
    "# layout = dict(\n",
    "#         title = 'Average Used Car Price by State<br>(Hover for breakdown)',\n",
    "#         geo = dict(\n",
    "#             scope='usa',\n",
    "#             projection=dict( type='albers usa' ),\n",
    "#             showlakes = True,\n",
    "#             lakecolor = 'rgb(255, 255, 255)'),\n",
    "#              )\n",
    "    \n",
    "# fig = dict( data=data, layout=layout )\n",
    "# py.iplot( fig, filename='d3-cloropleth-map' )"
   ]
  },
  {
   "cell_type": "code",
   "execution_count": 7,
   "metadata": {},
   "outputs": [
    {
     "data": {
      "text/html": [
       "<iframe id=\"igraph\" scrolling=\"no\" style=\"border:none;\" seamless=\"seamless\" src=\"https://plot.ly/~jdanski/2.embed\" height=\"525px\" width=\"100%\"></iframe>"
      ],
      "text/plain": [
       "<plotly.tools.PlotlyDisplay object>"
      ]
     },
     "execution_count": 7,
     "metadata": {},
     "output_type": "execute_result"
    }
   ],
   "source": [
    "# scl = [[0.0, 'rgb(242,240,247)'],[0.2, 'rgb(218,218,235)'],[0.4, 'rgb(188,189,220)'],\\\n",
    "#             [0.6, 'rgb(158,154,200)'],[0.8, 'rgb(117,107,177)'],[1.0, 'rgb(84,39,143)']]\n",
    "\n",
    "# # df['text'] = df['state'] + '<br>' +\\\n",
    "# #     'Beef '+df['beef']+' Dairy '+df['dairy']+'<br>'+\\\n",
    "# #     'Fruits '+df['total fruits']+' Veggies ' + df['total veggies']+'<br>'+\\\n",
    "# #     'Wheat '+df['wheat']+' Corn '+df['corn']\n",
    "\n",
    "# dataset = pd.DataFrame({'States':used_cars.Code.unique(),'Milage':ave_car_mil_by_state})\n",
    "\n",
    "# data = [ dict(\n",
    "#         type='choropleth',\n",
    "#         colorscale = 'Jet',\n",
    "#         autocolorscale = False,\n",
    "#         locations = dataset['States'],\n",
    "#         z = dataset['Milage'],\n",
    "#         locationmode = 'USA-states',\n",
    "# #         text = df['text'],\n",
    "#         marker = dict(\n",
    "#             line = dict (\n",
    "#                 color = 'rgb(255,255,255)',\n",
    "#                 width = 2\n",
    "#             ) ),\n",
    "#         colorbar = dict(\n",
    "#             title = \"Average Car Milage\")\n",
    "#         ) ]\n",
    "\n",
    "# layout = dict(\n",
    "#         title = 'Average Used Car Milage by State<br>(Hover for breakdown)',\n",
    "#         geo = dict(\n",
    "#             scope='usa',\n",
    "#             projection=dict( type='albers usa' ),\n",
    "#             showlakes = True,\n",
    "#             lakecolor = 'rgb(255, 255, 255)'),\n",
    "#              )\n",
    "    \n",
    "# fig = dict( data=data, layout=layout )\n",
    "# py.iplot( fig, filename='d3-cloropleth-map')"
   ]
  }
 ],
 "metadata": {
  "kernelspec": {
   "display_name": "Python 3",
   "language": "python",
   "name": "python3"
  },
  "language_info": {
   "codemirror_mode": {
    "name": "ipython",
    "version": 3
   },
   "file_extension": ".py",
   "mimetype": "text/x-python",
   "name": "python",
   "nbconvert_exporter": "python",
   "pygments_lexer": "ipython3",
   "version": "3.6.5"
  }
 },
 "nbformat": 4,
 "nbformat_minor": 2
}
